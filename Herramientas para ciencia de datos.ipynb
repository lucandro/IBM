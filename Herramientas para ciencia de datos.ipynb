{
  "nbformat": 4,
  "nbformat_minor": 0,
  "metadata": {
    "colab": {
      "provenance": [],
      "authorship_tag": "ABX9TyMKShMJPXltIaHpYrqZCvrM",
      "include_colab_link": true
    },
    "kernelspec": {
      "name": "python3",
      "display_name": "Python 3"
    },
    "language_info": {
      "name": "python"
    }
  },
  "cells": [
    {
      "cell_type": "markdown",
      "metadata": {
        "id": "view-in-github",
        "colab_type": "text"
      },
      "source": [
        "<a href=\"https://colab.research.google.com/github/lucandro/IBM/blob/main/Herramientas%20para%20ciencia%20de%20datos.ipynb\" target=\"_parent\"><img src=\"https://colab.research.google.com/assets/colab-badge.svg\" alt=\"Open In Colab\"/></a>"
      ]
    },
    {
      "cell_type": "markdown",
      "source": [
        "Ejercicio 2 - Cree una celda markdown con el título del cuaderno. (1 pto)"
      ],
      "metadata": {
        "id": "z3JupBmgIS1j"
      }
    },
    {
      "cell_type": "markdown",
      "source": [
        "# Herramientas para ciencia de datos"
      ],
      "metadata": {
        "id": "parkLZ_rEHgw"
      }
    },
    {
      "cell_type": "markdown",
      "source": [
        "Ejercicio 3 - Cree una celda markdown para una introducción. (1 pto)"
      ],
      "metadata": {
        "id": "Wjpb41i8IWhJ"
      }
    },
    {
      "cell_type": "markdown",
      "source": [
        "La ciencia de datos es un campo multidisciplinario que utiliza métodos, procesos, algoritmos y sistemas para extraer conocimiento e información de datos en diversas formas, tanto estructurados como no estructurados. Para llevar a cabo estas tareas, los científicos de datos utilizan una variedad de herramientas que les ayudan en cada etapa del proceso, desde la recolección y limpieza de datos hasta el análisis y visualización de resultados."
      ],
      "metadata": {
        "id": "kX0A823VEeDl"
      }
    },
    {
      "cell_type": "markdown",
      "source": [
        "Ejercicio 4 - Cree una celda markdown para enumerar los lenguajes de la ciencia de datos. (3 ptos)"
      ],
      "metadata": {
        "id": "Mc806KRXIsgC"
      }
    },
    {
      "cell_type": "markdown",
      "source": [
        "1. Python\n",
        "2. R\n",
        "3. SQL (Structured Query Language)\n",
        "4. Julia\n",
        "5. Scala\n",
        "6. MATLAB\n",
        "7. SAS (Statistical Analysis System)\n",
        "8. Java\n",
        "9. C++"
      ],
      "metadata": {
        "id": "d-j-58kIEv-U"
      }
    },
    {
      "cell_type": "markdown",
      "source": [
        "Ejercicio 5 - Cree una celda markdown para listar bibliotecas de ciencia de datos. (3 ptos)"
      ],
      "metadata": {
        "id": "bA9adwjQIveH"
      }
    },
    {
      "cell_type": "markdown",
      "source": [
        "\n",
        "\n",
        "| **Lenguaje** | **Bibliotecas para Ciencia de Datos**                  |\n",
        "|--------------|-------------------------------------------------------|\n",
        "| **Python**   | Pandas, NumPy, Matplotlib, Seaborn, Scikit-learn, TensorFlow, PyTorch, Keras, Statsmodels, SciPy, Plotly |\n",
        "| **R**        | ggplot2, dplyr, tidyr, caret, lattice, randomForest, e1071, shiny, data.table, plotly |\n",
        "| **Scala**    | Apache Spark, Breeze                                  |\n",
        "| **Java**     | Weka, Deeplearning4j, MOA (Massive Online Analysis)   |\n",
        "| **Julia**    | DataFrames.jl, Flux.jl, Plots.jl, MLJ.jl              |"
      ],
      "metadata": {
        "id": "eBPSU_dWFzzo"
      }
    },
    {
      "cell_type": "markdown",
      "source": [
        "Ejercicio 6 - Cree una celda markdown con una tabla de herramientas de Ciencia de Datos. (3 ptos)"
      ],
      "metadata": {
        "id": "7aSUV6oSIwXQ"
      }
    },
    {
      "cell_type": "markdown",
      "source": [
        "\n",
        "| **Categoría**                     | **Herramientas**                               |\n",
        "|-----------------------------------|------------------------------------------------|\n",
        "| **Entornos de desarrollo**        | Jupyter Notebook, JupyterLab, RStudio, Google Colab, VSCode |\n",
        "| **Librerías y Frameworks**        | TensorFlow, PyTorch, Scikit-learn, Keras, Pandas, NumPy, SciPy, ggplot2, dplyr |\n",
        "| **Bases de datos**                | MySQL, PostgreSQL, MongoDB, SQLite, Cassandra  |\n",
        "| **Herramientas de Big Data**      | Apache Spark, Hadoop, Databricks               |\n",
        "| **Plataformas de Visualización**  | Tableau, Power BI, Plotly, Matplotlib, Seaborn |\n",
        "| **Control de versiones**          | Git, GitHub, GitLab, Bitbucket                 |\n",
        "| **Lenguajes de Programación**     | Python, R, SQL, Julia, Scala, Java             |\n",
        "| **Plataformas de nube**           | AWS, Google Cloud Platform, Microsoft Azure    |\n",
        "| **Herramientas de ETL**           | Apache Nifi, Talend, Alteryx, Informatica      |\n",
        "| **Software de estadística**       | IBM SPSS, SAS, Minitab                         |"
      ],
      "metadata": {
        "id": "imBhKBvuGbJP"
      }
    },
    {
      "cell_type": "markdown",
      "source": [
        "Ejercicio 7 - Cree una celda markdown introduciendo ejemplos de expresiones aritméticas. (1 pto)"
      ],
      "metadata": {
        "id": "MNg5lBqdI0dn"
      }
    },
    {
      "cell_type": "markdown",
      "source": [
        "\n",
        "| **Operador** | **Descripción**                    | **Ejemplo**       | **Resultado**            |\n",
        "|--------------|----------------------------------|-------------------|-------------------------|\n",
        "| `+`          | Suma                              | `5 + 3`           | `8`                     |\n",
        "| `-`          | Resta                             | `5 - 3`           | `2`                     |\n",
        "| `*`          | Multiplicación                    | `5 * 3`           | `15`                    |\n",
        "| `/`          | División                          | `5 / 2`           | `2.5`                   |\n",
        "| `//`         | División entera                   | `5 // 2`          | `2`                     |\n",
        "| `%`          | Módulo (residuo de la división)   | `5 % 2`           | `1`                     |\n",
        "| `**`         | Exponente (potencia)              | `5 ** 2`          | `25`                    |\n",
        "| `-`          | Negación de un número             | `-5`              | `-5`                    |\n",
        "| `+=`         | Suma y asignación                 | `x += 3`          | `x = x + 3`             |\n",
        "| `-=`         | Resta y asignación                | `x -= 3`          | `x = x - 3`             |\n",
        "| `*=`         | Multiplicación y asignación       | `x *= 3`          | `x = x * 3`             |\n",
        "| `/=`         | División y asignación             | `x /= 3`          | `x = x / 3`             |\n",
        "| `//=`        | División entera y asignación      | `x //= 3`         | `x = x // 3`            |\n",
        "| `%=`         | Módulo y asignación               | `x %= 3`          | `x = x % 3`             |\n",
        "| `**=`        | Exponente y asignación            | `x **= 2`         | `x = x ** 2`            |\n",
        "\n"
      ],
      "metadata": {
        "id": "oggadXJqGt02"
      }
    },
    {
      "cell_type": "markdown",
      "source": [
        "Ejercicio 8 - Cree una celda de códigopara multiplicar y sumar números. (2 ptos)"
      ],
      "metadata": {
        "id": "gIPSuyKMI79-"
      }
    },
    {
      "cell_type": "code",
      "source": [
        "print(2 + 2)\n",
        "print(2 * 2)"
      ],
      "metadata": {
        "colab": {
          "base_uri": "https://localhost:8080/"
        },
        "id": "TMLj6M7UGa1I",
        "outputId": "34bff3c3-a985-4408-ae57-7e1d4206fce3"
      },
      "execution_count": 1,
      "outputs": [
        {
          "output_type": "stream",
          "name": "stdout",
          "text": [
            "4\n",
            "4\n"
          ]
        }
      ]
    },
    {
      "cell_type": "markdown",
      "source": [
        "Ejercicio 9 - Cree una celda de código para convertir minutos en horas. (2 ptos)"
      ],
      "metadata": {
        "id": "_VVgmOopI-zP"
      }
    },
    {
      "cell_type": "code",
      "source": [
        "def convertir_minutos_a_horas(minutos):\n",
        "    horas = minutos // 60\n",
        "    minutos_restantes = minutos % 60\n",
        "    return f\"{horas} horas y {minutos_restantes} minutos\"\n",
        "\n",
        "\n",
        "minutos = 135\n",
        "resultado = convertir_minutos_a_horas(minutos)\n",
        "print(resultado)"
      ],
      "metadata": {
        "id": "j1QVo5qwHFRU"
      },
      "execution_count": null,
      "outputs": []
    },
    {
      "cell_type": "markdown",
      "source": [
        "Ejercicio 10 -Inserte una celda de código para listar Objetivos. (3 pts)"
      ],
      "metadata": {
        "id": "FkLaTL8EJHK-"
      }
    },
    {
      "cell_type": "markdown",
      "source": [
        "- Comprender el propósito y las funcionalidades de las diferentes herramientas utilizadas en la ciencia de datos.\n",
        "- Identificar qué herramientas son adecuadas para cada fase del análisis de datos (recolección, procesamiento, análisis, modelado y visualización)\n",
        "\n",
        "-  Aprender los lenguajes de programación más comunes (como Python y R) utilizados para manipulación de datos, análisis estadístico y creación de modelos predictivos.\n",
        "-  Desarrollar habilidades para escribir código eficiente y realizar análisis de datos utilizando estos lenguajes.\n",
        "\n",
        "- Familiarizarse con las bibliotecas más importantes de ciencia de datos (como NumPy, pandas, scikit-learn, Matplotlib, TensorFlow, entre otras).\n",
        "- Implementar algoritmos de aprendizaje automático y realizar visualizaciones de datos utilizando las bibliotecas correspondientes."
      ],
      "metadata": {
        "id": "__Wx8xsTH0a9"
      }
    },
    {
      "cell_type": "markdown",
      "source": [
        "Ejercicio 11 - Cree una celda markdown para indicar el nombre del Autor. (2 ptos)"
      ],
      "metadata": {
        "id": "NI1FyMw-JJ2p"
      }
    },
    {
      "cell_type": "markdown",
      "source": [
        "# Autor\n",
        "\n",
        "Eduar Leandro Romero Arango"
      ],
      "metadata": {
        "id": "Q0cRGzutIFaF"
      }
    }
  ]
}